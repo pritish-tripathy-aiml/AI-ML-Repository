{
  "nbformat": 4,
  "nbformat_minor": 0,
  "metadata": {
    "colab": {
      "provenance": [],
      "authorship_tag": "ABX9TyMiaVw/yUEF77GD2BCc13HL",
      "include_colab_link": true
    },
    "kernelspec": {
      "name": "python3",
      "display_name": "Python 3"
    },
    "language_info": {
      "name": "python"
    }
  },
  "cells": [
    {
      "cell_type": "markdown",
      "metadata": {
        "id": "view-in-github",
        "colab_type": "text"
      },
      "source": [
        "<a href=\"https://colab.research.google.com/github/pritish-tripathy-aiml/AI-ML-Repository/blob/main/Formatted_Printing.ipynb\" target=\"_parent\"><img src=\"https://colab.research.google.com/assets/colab-badge.svg\" alt=\"Open In Colab\"/></a>"
      ]
    },
    {
      "cell_type": "markdown",
      "source": [
        "##**Formatted Printing**"
      ],
      "metadata": {
        "id": "_KCcC8KSz6Or"
      }
    },
    {
      "cell_type": "code",
      "source": [
        "# ASCII(American Standard Code for Information Interchange)\n",
        "'''\n",
        "Data which we providing to the Computer will be stored in Binary Format\n",
        "Python have numeric codes for all alphabets, special characters and Numbers, These Standard codes are known as ASCII Codes\n",
        "English alphabets are bicameral Languages that means it have both Uppercase and Lowercase\n",
        "A to Z => 65 to 90\n",
        "a to z => 97 to 122\n",
        "\n",
        "ASCII Codes can be represented in 7 Bits.\n",
        "We can say 1 Byte is enough for ASCII Codes\n",
        "'''"
      ],
      "metadata": {
        "colab": {
          "base_uri": "https://localhost:8080/",
          "height": 122
        },
        "id": "Wg9Y4qkv0DP-",
        "outputId": "b58cb83d-59d2-424c-d7f4-bb4628f439c0"
      },
      "execution_count": null,
      "outputs": [
        {
          "output_type": "execute_result",
          "data": {
            "text/plain": [
              "'\\nData which we providing to the Computer will be stored in Binary Format\\nPython have numeric codes for all alphabets, special characters and Numbers, These Standard codes are known as ASCII Codes \\nEnglish alphabets are bicameral Languages that means it have both Uppercase and Lowercase\\nA to Z => 65 to 90\\na to z => 97 to 122\\n\\nASCII Codes can be represented in 7 Bits.\\nWe can say 1 Byte is enough for ASCII Codes\\n'"
            ],
            "application/vnd.google.colaboratory.intrinsic+json": {
              "type": "string"
            }
          },
          "metadata": {},
          "execution_count": 2
        }
      ]
    },
    {
      "cell_type": "code",
      "source": [
        "# Get ASCII Code\n",
        "s1='A'\n",
        "print(ord(s1))    # In this we can get the ASCII Code\n",
        "s2 = ' '\n",
        "print(ord(s2))"
      ],
      "metadata": {
        "colab": {
          "base_uri": "https://localhost:8080/"
        },
        "id": "W_aKk9LY3vwu",
        "outputId": "275633d0-80bf-4991-d89f-268591dc52d9"
      },
      "execution_count": null,
      "outputs": [
        {
          "output_type": "stream",
          "name": "stdout",
          "text": [
            "65\n",
            "32\n"
          ]
        }
      ]
    },
    {
      "cell_type": "code",
      "source": [
        "# Get the Value by ASCII Code\n",
        "print(chr(65))\n",
        "print(chr(97))\n",
        "print(chr(121))"
      ],
      "metadata": {
        "colab": {
          "base_uri": "https://localhost:8080/"
        },
        "id": "yccF6Yk-5uf6",
        "outputId": "8007445d-1255-4786-f1bb-687e180bd86a"
      },
      "execution_count": null,
      "outputs": [
        {
          "output_type": "stream",
          "name": "stdout",
          "text": [
            "A\n",
            "a\n",
            "y\n"
          ]
        }
      ]
    },
    {
      "cell_type": "code",
      "source": [
        "# UNICODE Characters\n",
        "'''\n",
        "ASCII Codes is for English Language Only but UNICODE Supports every Language\n",
        "UNICODE may take 8-Bit(1 Byte), 16-Bit(2 Bytes) or 32-Bit(4 Bytes)\n",
        "8-Bit(1 Byte) => UTF-8\n",
        "16-Bit(2 Bytes) => UTF-16\n",
        "32-Bit(4 Bytes) => UTF-32\n",
        "'''"
      ],
      "metadata": {
        "colab": {
          "base_uri": "https://localhost:8080/",
          "height": 70
        },
        "id": "oxN843by6Kis",
        "outputId": "a4f184fc-17c7-4271-8c2b-4acb01c50d1e"
      },
      "execution_count": null,
      "outputs": [
        {
          "output_type": "execute_result",
          "data": {
            "text/plain": [
              "'\\nASCII Codes is for English Language Only but UNICODE Supports every Language\\nUNICODE may take 8-Bit(1 Byte), 16-Bit(2 Bytes) or 32-Bit(4 Bytes)\\n8-Bit(1 Byte) => UTF-8\\n16-Bit(2 Bytes) => UTF-16\\n32-Bit(4 Bytes) => UTF-32\\n'"
            ],
            "application/vnd.google.colaboratory.intrinsic+json": {
              "type": "string"
            }
          },
          "metadata": {},
          "execution_count": 7
        }
      ]
    },
    {
      "cell_type": "markdown",
      "source": [
        "**Get All the UNICODEs [Here](https://home.unicode.org/)**"
      ],
      "metadata": {
        "id": "-Lb17DLY9ieI"
      }
    },
    {
      "cell_type": "code",
      "source": [
        "# Write the UNICODEs\n",
        "# Represented as 16-Bits\n",
        "st1 = '\\u03b1'\n",
        "st2 = '\\u03b1\\u03b2\\u03b3\\u03b4\\u03b5'\n",
        "print(st1)\n",
        "print(st2)\n",
        "\n",
        "# English Languages can also be used\n",
        "st3 = '\\u0041'\n",
        "print(st3)\n",
        "\n",
        "st4 = '\\u0906\\u0936\\u0905'\n",
        "print(st4)\n",
        "\n",
        "# To Represent in 2 Digits that is 8-Bits\n",
        "st5 = '\\x41'\n",
        "print(st5)"
      ],
      "metadata": {
        "colab": {
          "base_uri": "https://localhost:8080/"
        },
        "id": "OY9tsEdW9zTe",
        "outputId": "571b7d91-291a-4cf9-8602-c480c0cb005a"
      },
      "execution_count": null,
      "outputs": [
        {
          "output_type": "stream",
          "name": "stdout",
          "text": [
            "α\n",
            "αβγδε\n",
            "A\n",
            "आशअ\n",
            "A\n"
          ]
        }
      ]
    },
    {
      "cell_type": "code",
      "source": [
        "# UNICODE Range\n",
        "'''\n",
        "'\\u100000 => '\\u10ffff'\n",
        "'''\n",
        "# UNICODEs are divided into Planes that require different Memory Size and different Formats are followed like\n",
        "# UTF-8, UTF-16, UTF-32. If language are falling in Larger Size planes then use the UTF-32.\n",
        "\n",
        "# Diagraph\n",
        "'''\n",
        "In some Languages two characters form a Single Character, such characters are called Diagraphs\n",
        "'''\n"
      ],
      "metadata": {
        "colab": {
          "base_uri": "https://localhost:8080/",
          "height": 52
        },
        "id": "HDp7begZ-koo",
        "outputId": "acfccbb0-3e9a-4c42-f9cc-db6309b792b2"
      },
      "execution_count": null,
      "outputs": [
        {
          "output_type": "execute_result",
          "data": {
            "text/plain": [
              "'\\nIn some Languages two characters form a Single Character, such characters are called Diagraphs\\n'"
            ],
            "application/vnd.google.colaboratory.intrinsic+json": {
              "type": "string"
            }
          },
          "metadata": {},
          "execution_count": 14
        }
      ]
    },
    {
      "cell_type": "code",
      "source": [
        "# Escape Sequences: Special Characters\n",
        "'''\n",
        "The Escape Sequences are:\n",
        "\\n => New Line\n",
        "\\r => Carriage Return\n",
        "\\f => Line Feed\n",
        "\\t => Horizontal Tab\n",
        "\\v => Vertical Tab\n",
        "\\b => Backspace\n",
        "\\a => Alert\n",
        "'''\n",
        "# \\o => Octal\n",
        "# \\x => Hexadecimal\n",
        "# \\u => Unicode\n",
        "\n",
        "print(\"abcdefghi\",end='')   # Avoid the cusrsor to go to the next line we use end=''\n",
        "print(\"def\")"
      ],
      "metadata": {
        "id": "Z3enRA_fJ0uJ",
        "colab": {
          "base_uri": "https://localhost:8080/"
        },
        "outputId": "9db52e01-899c-4f2a-dadf-a353fbb89246"
      },
      "execution_count": 15,
      "outputs": [
        {
          "output_type": "stream",
          "name": "stdout",
          "text": [
            "abcdefghidef\n"
          ]
        }
      ]
    },
    {
      "cell_type": "code",
      "source": [
        "print(\"ab\\ncdefghi\",end='')   # Change the Line\n",
        "print(\"def\")"
      ],
      "metadata": {
        "colab": {
          "base_uri": "https://localhost:8080/"
        },
        "id": "Nfnc5LgHRw1A",
        "outputId": "b09af0f1-2d49-443e-e47c-2460b0d00418"
      },
      "execution_count": 17,
      "outputs": [
        {
          "output_type": "stream",
          "name": "stdout",
          "text": [
            "ab\n",
            "cdefghidef\n"
          ]
        }
      ]
    },
    {
      "cell_type": "code",
      "source": [
        "print(\"ab\\rcdefghi\",end='')   # Change the Line\n",
        "print(\"def\")"
      ],
      "metadata": {
        "colab": {
          "base_uri": "https://localhost:8080/"
        },
        "id": "C-eeZdk7UIwV",
        "outputId": "d82fa4ee-9eb4-4ca9-dea1-7662f0f88181"
      },
      "execution_count": 18,
      "outputs": [
        {
          "output_type": "stream",
          "name": "stdout",
          "text": [
            "ab\rcdefghidef\n"
          ]
        }
      ]
    },
    {
      "cell_type": "code",
      "source": [
        "print(\"abcdefghi\\b\",end='')     # It will remove a character"
      ],
      "metadata": {
        "colab": {
          "base_uri": "https://localhost:8080/"
        },
        "id": "Pgt7OR6RUUJY",
        "outputId": "13af1920-5340-4b66-b1d5-e018ab58417c"
      },
      "execution_count": 20,
      "outputs": [
        {
          "output_type": "stream",
          "name": "stdout",
          "text": [
            "abcdefghi\b"
          ]
        }
      ]
    },
    {
      "cell_type": "code",
      "source": [
        "print(\"abc\\tdefghi\",end='')     # It will give a tab space in between"
      ],
      "metadata": {
        "colab": {
          "base_uri": "https://localhost:8080/"
        },
        "id": "tHXMspGzUvo6",
        "outputId": "265cca33-e4cd-41f8-fdc1-dd96189f9b34"
      },
      "execution_count": 21,
      "outputs": [
        {
          "output_type": "stream",
          "name": "stdout",
          "text": [
            "abc\tdefghi"
          ]
        }
      ]
    },
    {
      "cell_type": "code",
      "source": [
        "print(\"abc\\vdefghi\",end='')     # It will print in the next Line"
      ],
      "metadata": {
        "colab": {
          "base_uri": "https://localhost:8080/"
        },
        "id": "s03XSLtoU22E",
        "outputId": "b5fc2c74-1a59-4672-9894-1974a2fe36f3"
      },
      "execution_count": 22,
      "outputs": [
        {
          "output_type": "stream",
          "name": "stdout",
          "text": [
            "abc\u000bdefghi"
          ]
        }
      ]
    },
    {
      "cell_type": "code",
      "source": [
        "print(\"abc\\adefghi\",end='')     # It will give an alert sound"
      ],
      "metadata": {
        "colab": {
          "base_uri": "https://localhost:8080/"
        },
        "id": "xqWqZodrU37D",
        "outputId": "350f1801-f781-4467-b999-b30db92e0692"
      },
      "execution_count": 23,
      "outputs": [
        {
          "output_type": "stream",
          "name": "stdout",
          "text": [
            "abc\u0007defghi"
          ]
        }
      ]
    },
    {
      "cell_type": "code",
      "source": [
        "print('\\t\\t\\t\\tWelcome')\n",
        "print('\\t\\tJames')\n",
        "print('\\t\\tJohn\\t\\tSmith')"
      ],
      "metadata": {
        "colab": {
          "base_uri": "https://localhost:8080/"
        },
        "id": "AYJ5Mu0CU86y",
        "outputId": "e1c18e65-bfd9-40c9-be94-0d9d85afb4d2"
      },
      "execution_count": 24,
      "outputs": [
        {
          "output_type": "stream",
          "name": "stdout",
          "text": [
            "\t\t\t\tWelcome\n",
            "\t\tJames\n",
            "\t\tJohn\t\tSmith\n"
          ]
        }
      ]
    },
    {
      "cell_type": "code",
      "source": [],
      "metadata": {
        "id": "j7ow26GuVRcw"
      },
      "execution_count": null,
      "outputs": []
    }
  ]
}