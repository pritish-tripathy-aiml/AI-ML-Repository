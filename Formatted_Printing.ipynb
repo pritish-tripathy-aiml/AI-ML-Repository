{
  "nbformat": 4,
  "nbformat_minor": 0,
  "metadata": {
    "colab": {
      "provenance": [],
      "authorship_tag": "ABX9TyMDMEqcIyxf9CXpPNqEg3w7",
      "include_colab_link": true
    },
    "kernelspec": {
      "name": "python3",
      "display_name": "Python 3"
    },
    "language_info": {
      "name": "python"
    }
  },
  "cells": [
    {
      "cell_type": "markdown",
      "metadata": {
        "id": "view-in-github",
        "colab_type": "text"
      },
      "source": [
        "<a href=\"https://colab.research.google.com/github/pritish-tripathy-aiml/AI-ML-Repository/blob/main/Formatted_Printing.ipynb\" target=\"_parent\"><img src=\"https://colab.research.google.com/assets/colab-badge.svg\" alt=\"Open In Colab\"/></a>"
      ]
    },
    {
      "cell_type": "markdown",
      "source": [
        "##**Formatted Printing**"
      ],
      "metadata": {
        "id": "_KCcC8KSz6Or"
      }
    },
    {
      "cell_type": "code",
      "source": [
        "# ASCII(American Standard Code for Information Interchange)\n",
        "'''\n",
        "Data which we providing to the Computer will be stored in Binary Format\n",
        "Python have numeric codes for all alphabets, special characters and Numbers, These Standard codes are known as ASCII Codes\n",
        "English alphabets are bicameral Languages that means it have both Uppercase and Lowercase\n",
        "A to Z => 65 to 90\n",
        "a to z => 97 to 122\n",
        "\n",
        "ASCII Codes can be represented in 7 Bits.\n",
        "We can say 1 Byte is enough for ASCII Codes\n",
        "'''"
      ],
      "metadata": {
        "colab": {
          "base_uri": "https://localhost:8080/",
          "height": 122
        },
        "id": "Wg9Y4qkv0DP-",
        "outputId": "b58cb83d-59d2-424c-d7f4-bb4628f439c0"
      },
      "execution_count": 2,
      "outputs": [
        {
          "output_type": "execute_result",
          "data": {
            "text/plain": [
              "'\\nData which we providing to the Computer will be stored in Binary Format\\nPython have numeric codes for all alphabets, special characters and Numbers, These Standard codes are known as ASCII Codes \\nEnglish alphabets are bicameral Languages that means it have both Uppercase and Lowercase\\nA to Z => 65 to 90\\na to z => 97 to 122\\n\\nASCII Codes can be represented in 7 Bits.\\nWe can say 1 Byte is enough for ASCII Codes\\n'"
            ],
            "application/vnd.google.colaboratory.intrinsic+json": {
              "type": "string"
            }
          },
          "metadata": {},
          "execution_count": 2
        }
      ]
    },
    {
      "cell_type": "code",
      "source": [
        "# Get ASCII Code\n",
        "s1='A'\n",
        "print(ord(s1))    # In this we can get the ASCII Code\n",
        "s2 = ' '\n",
        "print(ord(s2))"
      ],
      "metadata": {
        "colab": {
          "base_uri": "https://localhost:8080/"
        },
        "id": "W_aKk9LY3vwu",
        "outputId": "275633d0-80bf-4991-d89f-268591dc52d9"
      },
      "execution_count": 5,
      "outputs": [
        {
          "output_type": "stream",
          "name": "stdout",
          "text": [
            "65\n",
            "32\n"
          ]
        }
      ]
    },
    {
      "cell_type": "code",
      "source": [
        "# Get the Value by ASCII Code\n",
        "print(chr(65))\n",
        "print(chr(97))\n",
        "print(chr(121))"
      ],
      "metadata": {
        "colab": {
          "base_uri": "https://localhost:8080/"
        },
        "id": "yccF6Yk-5uf6",
        "outputId": "8007445d-1255-4786-f1bb-687e180bd86a"
      },
      "execution_count": 6,
      "outputs": [
        {
          "output_type": "stream",
          "name": "stdout",
          "text": [
            "A\n",
            "a\n",
            "y\n"
          ]
        }
      ]
    },
    {
      "cell_type": "code",
      "source": [
        "# UNICODE Characters\n",
        "'''\n",
        "ASCII Codes is for English Language Only but UNICODE Supports every Language\n",
        "UNICODE may take 8-Bit(1 Byte), 16-Bit(2 Bytes) or 32-Bit(4 Bytes)\n",
        "8-Bit(1 Byte) => UTF-8\n",
        "16-Bit(2 Bytes) => UTF-16\n",
        "32-Bit(4 Bytes) => UTF-32\n",
        "'''"
      ],
      "metadata": {
        "colab": {
          "base_uri": "https://localhost:8080/",
          "height": 70
        },
        "id": "oxN843by6Kis",
        "outputId": "a4f184fc-17c7-4271-8c2b-4acb01c50d1e"
      },
      "execution_count": 7,
      "outputs": [
        {
          "output_type": "execute_result",
          "data": {
            "text/plain": [
              "'\\nASCII Codes is for English Language Only but UNICODE Supports every Language\\nUNICODE may take 8-Bit(1 Byte), 16-Bit(2 Bytes) or 32-Bit(4 Bytes)\\n8-Bit(1 Byte) => UTF-8\\n16-Bit(2 Bytes) => UTF-16\\n32-Bit(4 Bytes) => UTF-32\\n'"
            ],
            "application/vnd.google.colaboratory.intrinsic+json": {
              "type": "string"
            }
          },
          "metadata": {},
          "execution_count": 7
        }
      ]
    },
    {
      "cell_type": "markdown",
      "source": [
        "**Get All the UNICODEs [Here](https://home.unicode.org/)**"
      ],
      "metadata": {
        "id": "-Lb17DLY9ieI"
      }
    },
    {
      "cell_type": "code",
      "source": [
        "# Write the UNICODEs\n",
        "# Represented as 16-Bits\n",
        "st1 = '\\u03b1'\n",
        "st2 = '\\u03b1\\u03b2\\u03b3\\u03b4\\u03b5'\n",
        "print(st1)\n",
        "print(st2)\n",
        "\n",
        "# English Languages can also be used\n",
        "st3 = '\\u0041'\n",
        "print(st3)\n",
        "\n",
        "st4 = '\\u0906\\u0936\\u0905'\n",
        "print(st4)\n",
        "\n",
        "# To Represent in 2 Digits that is 8-Bits\n",
        "st5 = '\\x41'\n",
        "print(st5)"
      ],
      "metadata": {
        "colab": {
          "base_uri": "https://localhost:8080/"
        },
        "id": "OY9tsEdW9zTe",
        "outputId": "571b7d91-291a-4cf9-8602-c480c0cb005a"
      },
      "execution_count": 13,
      "outputs": [
        {
          "output_type": "stream",
          "name": "stdout",
          "text": [
            "α\n",
            "αβγδε\n",
            "A\n",
            "आशअ\n",
            "A\n"
          ]
        }
      ]
    },
    {
      "cell_type": "code",
      "source": [
        "# UNICODE Range\n",
        "'''\n",
        "'\\u100000 => '\\u10ffff'\n",
        "'''\n",
        "# UNICODEs are divided into Planes that require different Memory Size and different Formats are followed like\n",
        "# UTF-8, UTF-16, UTF-32. If language are falling in Larger Size planes then use the UTF-32.\n",
        "\n",
        "# Diagraph\n",
        "'''\n",
        "In some Languages two characters form a Single Character, such characters are called Diagraphs\n",
        "'''\n"
      ],
      "metadata": {
        "colab": {
          "base_uri": "https://localhost:8080/",
          "height": 52
        },
        "id": "HDp7begZ-koo",
        "outputId": "acfccbb0-3e9a-4c42-f9cc-db6309b792b2"
      },
      "execution_count": 14,
      "outputs": [
        {
          "output_type": "execute_result",
          "data": {
            "text/plain": [
              "'\\nIn some Languages two characters form a Single Character, such characters are called Diagraphs\\n'"
            ],
            "application/vnd.google.colaboratory.intrinsic+json": {
              "type": "string"
            }
          },
          "metadata": {},
          "execution_count": 14
        }
      ]
    },
    {
      "cell_type": "code",
      "source": [
        "# Escape Sequences: Special Characters"
      ],
      "metadata": {
        "id": "Z3enRA_fJ0uJ"
      },
      "execution_count": null,
      "outputs": []
    }
  ]
}