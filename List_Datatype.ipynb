{
  "nbformat": 4,
  "nbformat_minor": 0,
  "metadata": {
    "colab": {
      "provenance": [],
      "authorship_tag": "ABX9TyNkNvcS4igXPYr3A0iIp4O2",
      "include_colab_link": true
    },
    "kernelspec": {
      "name": "python3",
      "display_name": "Python 3"
    },
    "language_info": {
      "name": "python"
    }
  },
  "cells": [
    {
      "cell_type": "markdown",
      "metadata": {
        "id": "view-in-github",
        "colab_type": "text"
      },
      "source": [
        "<a href=\"https://colab.research.google.com/github/pritish-tripathy-aiml/AI-ML-Repository/blob/main/List_Datatype.ipynb\" target=\"_parent\"><img src=\"https://colab.research.google.com/assets/colab-badge.svg\" alt=\"Open In Colab\"/></a>"
      ]
    },
    {
      "cell_type": "markdown",
      "source": [
        "##**List Datatype in Python**"
      ],
      "metadata": {
        "id": "WmXvHVIlAWRB"
      }
    },
    {
      "cell_type": "code",
      "source": [
        "# Introduction to Lists\n",
        "# List is an Ordered Collection of Objects and it can have duplicate Objects\n",
        "myList = ['john','smith','david','mark','eric','smith']     # All are String Objects\n",
        "print(myList)\n",
        "print(myList[2])\n",
        "print(myList[-2])\n",
        "\n",
        "# Another way to create a List\n",
        "myList2 = list((1,2,3,4,5))\n",
        "print(myList2)\n",
        "print(myList2[1])\n",
        "print(myList2[-1])\n",
        "\n",
        "# List is Heterogeneous means it allows different kinds of Data\n",
        "myList3 = ['marcus',16,1.23,True,'hello',3+5j]\n",
        "print(myList3)\n",
        "print(myList3[2])\n",
        "print(myList3[-1])\n",
        "\n",
        "# List is an Ordered Collection of Heterogeneous Objects that can hold Duplicates"
      ],
      "metadata": {
        "id": "d5SNevICAlRt",
        "colab": {
          "base_uri": "https://localhost:8080/"
        },
        "outputId": "215d933f-6fc7-44e5-a241-8829dd8c635d"
      },
      "execution_count": 8,
      "outputs": [
        {
          "output_type": "stream",
          "name": "stdout",
          "text": [
            "['john', 'smith', 'david', 'mark', 'eric', 'smith']\n",
            "david\n",
            "eric\n",
            "[1, 2, 3, 4, 5]\n",
            "2\n",
            "5\n",
            "['marcus', 16, 1.23, True, 'hello', (3+5j)]\n",
            "1.23\n",
            "(3+5j)\n"
          ]
        }
      ]
    },
    {
      "cell_type": "code",
      "source": [
        "# List is Mutable, means its value can be Changed\n",
        "myLi = [10,23,55,12,89,3]\n",
        "print(\"Length:\",len(myLi))\n",
        "print(myLi)\n",
        "myLi[0] = 30\n",
        "myLi[4] = 99\n",
        "myLi[-1] = 'hello'\n",
        "print(myLi)\n",
        "\n",
        "# We can also change number of Objects in a List\n",
        "myLi.append('hi')\n",
        "myLi.append('bye')\n",
        "myLi.append(111)\n",
        "print(myLi)\n",
        "print(\"Length:\",len(myLi))\n",
        "# Changing the Size of a List is Costly Process"
      ],
      "metadata": {
        "colab": {
          "base_uri": "https://localhost:8080/"
        },
        "id": "hv6r7e_FXEbs",
        "outputId": "4e48a90e-ff71-4154-a3d1-19b9178aff7b"
      },
      "execution_count": 14,
      "outputs": [
        {
          "output_type": "stream",
          "name": "stdout",
          "text": [
            "Length: 6\n",
            "[10, 23, 55, 12, 89, 3]\n",
            "[30, 23, 55, 12, 99, 'hello']\n",
            "[30, 23, 55, 12, 99, 'hello', 'hi', 'bye', 111]\n",
            "Length: 9\n"
          ]
        }
      ]
    },
    {
      "cell_type": "code",
      "source": [
        "# Operators on List\n",
        "list1 = [1,2,3,4,5,6,7,8,9,10]\n",
        "\n",
        "# Index Operator []\n",
        "print(list1)\n",
        "print(list1[7])\n",
        "print(list1[-5])\n",
        "list1[3] = 99       # Modifying the Value\n",
        "list1[4] = 88\n",
        "print(list1)\n",
        "\n",
        "# Slice Operator [:] -> [start:end:steps]\n",
        "print(list1[:])     # Print all the Elements\n",
        "print(list1[3:])    # It will start from Index 3 to Last Element\n",
        "print(list1[3:8])    # It will start from Index 3 to One before Index 8\n",
        "print(list1[0:10:2])    # It will start from Index 0 to One before Index 10 and skip One Element\n",
        "print(list1[-1:-11:-1])    # it will print from Reverse\n",
        "print(list1[::-1])    # it will print from Reverse"
      ],
      "metadata": {
        "colab": {
          "base_uri": "https://localhost:8080/"
        },
        "id": "6D7YrmnvaIZl",
        "outputId": "7bdb2aac-d464-463d-c1c3-398847b6d190"
      },
      "execution_count": 20,
      "outputs": [
        {
          "output_type": "stream",
          "name": "stdout",
          "text": [
            "[1, 2, 3, 4, 5, 6, 7, 8, 9, 10]\n",
            "8\n",
            "6\n",
            "[1, 2, 3, 99, 88, 6, 7, 8, 9, 10]\n",
            "[1, 2, 3, 99, 88, 6, 7, 8, 9, 10]\n",
            "[99, 88, 6, 7, 8, 9, 10]\n",
            "[99, 88, 6, 7, 8]\n",
            "[1, 3, 88, 7, 9]\n",
            "[10, 9, 8, 7, 6, 88, 99, 3, 2, 1]\n",
            "[10, 9, 8, 7, 6, 88, 99, 3, 2, 1]\n"
          ]
        }
      ]
    },
    {
      "cell_type": "code",
      "source": [
        "# We can modify contents of List using Slice\n",
        "list2 = [1,2,3,4,5,6,7,8,9,10]\n",
        "print(list2)\n",
        "list2[0:3]=[10,20,30]\n",
        "print(list2)\n",
        "\n",
        "list2[6:9] = [99]     # It will replace with One Element Only\n",
        "print(list2)\n",
        "\n",
        "list2[0:3] = [11,22,33,44,55,66,77]     # It will replace multiple Elements\n",
        "print(list2)\n",
        "\n",
        "list2[::2] = [11,22,33,44,55,66]\n",
        "print(list2)      # If you are mentiong steps you have to replace according to the possible number of values"
      ],
      "metadata": {
        "colab": {
          "base_uri": "https://localhost:8080/"
        },
        "id": "QcOO88X9dRlW",
        "outputId": "e5a4a76f-20bb-40ee-fcd3-6c7086161d3b"
      },
      "execution_count": 24,
      "outputs": [
        {
          "output_type": "stream",
          "name": "stdout",
          "text": [
            "[1, 2, 3, 4, 5, 6, 7, 8, 9, 10]\n",
            "[10, 20, 30, 4, 5, 6, 7, 8, 9, 10]\n",
            "[10, 20, 30, 4, 5, 6, 99, 10]\n",
            "[11, 22, 33, 44, 55, 66, 77, 4, 5, 6, 99, 10]\n",
            "[11, 22, 22, 44, 33, 66, 44, 4, 55, 6, 66, 10]\n"
          ]
        }
      ]
    },
    {
      "cell_type": "code",
      "source": [],
      "metadata": {
        "id": "kTDkp5eqhG7s"
      },
      "execution_count": null,
      "outputs": []
    }
  ]
}