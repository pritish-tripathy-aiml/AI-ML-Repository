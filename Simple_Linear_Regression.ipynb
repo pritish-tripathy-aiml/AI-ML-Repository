{
  "nbformat": 4,
  "nbformat_minor": 0,
  "metadata": {
    "colab": {
      "provenance": [],
      "authorship_tag": "ABX9TyN87eGybXzvKPRc0Ki8cFGf",
      "include_colab_link": true
    },
    "kernelspec": {
      "name": "python3",
      "display_name": "Python 3"
    },
    "language_info": {
      "name": "python"
    }
  },
  "cells": [
    {
      "cell_type": "markdown",
      "metadata": {
        "id": "view-in-github",
        "colab_type": "text"
      },
      "source": [
        "<a href=\"https://colab.research.google.com/github/pritish-tripathy-aiml/AI-ML-Repository/blob/main/Simple_Linear_Regression.ipynb\" target=\"_parent\"><img src=\"https://colab.research.google.com/assets/colab-badge.svg\" alt=\"Open In Colab\"/></a>"
      ]
    },
    {
      "cell_type": "markdown",
      "source": [
        "##**Simple Linear Regression**"
      ],
      "metadata": {
        "id": "yvl79DYaQ0oN"
      }
    },
    {
      "cell_type": "markdown",
      "source": [
        "**Formula for Simple Linear Regression**  \n",
        "**ŷ = b₀ + b₁X₁**  \n",
        "**ŷ:** Dependent Variable  \n",
        "**b₀:** y-intercept(constant)  \n",
        "**b₁X₁:** Independent Variable  \n",
        "\n",
        "**Example:** Amount of Potatoes produced based on the type of Fertilizer we use.  \n",
        "**Potatoes[*t*] = b₀ + b₁ x Fertilizer[*kg*]**\n"
      ],
      "metadata": {
        "id": "xn_qJvnHQ9xF"
      }
    },
    {
      "cell_type": "code",
      "source": [],
      "metadata": {
        "id": "F853QZpOWXTA"
      },
      "execution_count": null,
      "outputs": []
    }
  ]
}